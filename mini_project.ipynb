{
  "nbformat": 4,
  "nbformat_minor": 0,
  "metadata": {
    "colab": {
      "name": "mini_project",
      "provenance": [],
      "collapsed_sections": [],
      "authorship_tag": "ABX9TyN0cFq/6R5lZxl/pX3sTBjW",
      "include_colab_link": true
    },
    "kernelspec": {
      "name": "python3",
      "display_name": "Python 3"
    }
  },
  "cells": [
    {
      "cell_type": "markdown",
      "metadata": {
        "id": "view-in-github",
        "colab_type": "text"
      },
      "source": [
        "<a href=\"https://colab.research.google.com/github/dragoon-dranzer/Data_Science/blob/main/mini_project.ipynb\" target=\"_parent\"><img src=\"https://colab.research.google.com/assets/colab-badge.svg\" alt=\"Open In Colab\"/></a>"
      ]
    },
    {
      "cell_type": "markdown",
      "metadata": {
        "id": "N_kqGVCMesWd"
      },
      "source": [
        "#**importing libraries**"
      ]
    },
    {
      "cell_type": "code",
      "metadata": {
        "id": "D5YEFMoiLAdP"
      },
      "source": [
        "import numpy as np\r\n",
        "from sklearn.neural_network import MLPRegressor\r\n",
        "from sklearn.model_selection import train_test_split\r\n",
        "from sklearn.metrics import mean_squared_error, r2_score\r\n",
        "import pandas as pd\r\n",
        "import matplotlib.pyplot as plt\r\n",
        "import pickle\r\n",
        "from scipy import stats\r\n",
        "import matplotlib\r\n",
        "matplotlib.rcParams['figure.dpi'] = 300"
      ],
      "execution_count": null,
      "outputs": []
    },
    {
      "cell_type": "markdown",
      "metadata": {
        "id": "OF3xSSeqe0Zf"
      },
      "source": [
        "#**reading Data Set**"
      ]
    },
    {
      "cell_type": "code",
      "metadata": {
        "colab": {
          "base_uri": "https://localhost:8080/",
          "height": 204
        },
        "id": "V_MA_ImiNF2e",
        "outputId": "ec341d3c-f99f-4bed-df77-95d4801cab5d"
      },
      "source": [
        "df = pd.read_csv(\"https://raw.githubusercontent.com/dragoon-dranzer/Data_Science/main/SNP.csv\")\r\n",
        "df.head()"
      ],
      "execution_count": null,
      "outputs": [
        {
          "output_type": "execute_result",
          "data": {
            "text/html": [
              "<div>\n",
              "<style scoped>\n",
              "    .dataframe tbody tr th:only-of-type {\n",
              "        vertical-align: middle;\n",
              "    }\n",
              "\n",
              "    .dataframe tbody tr th {\n",
              "        vertical-align: top;\n",
              "    }\n",
              "\n",
              "    .dataframe thead th {\n",
              "        text-align: right;\n",
              "    }\n",
              "</style>\n",
              "<table border=\"1\" class=\"dataframe\">\n",
              "  <thead>\n",
              "    <tr style=\"text-align: right;\">\n",
              "      <th></th>\n",
              "      <th>Stock Price</th>\n",
              "      <th>Strike Price</th>\n",
              "      <th>Maturity</th>\n",
              "      <th>Dividends</th>\n",
              "      <th>Volatility</th>\n",
              "      <th>Risk-free</th>\n",
              "      <th>Call Price</th>\n",
              "    </tr>\n",
              "  </thead>\n",
              "  <tbody>\n",
              "    <tr>\n",
              "      <th>0</th>\n",
              "      <td>28.0</td>\n",
              "      <td>17.0</td>\n",
              "      <td>0.03963</td>\n",
              "      <td>0.0224</td>\n",
              "      <td>0.3709</td>\n",
              "      <td>0.0088</td>\n",
              "      <td>10.40</td>\n",
              "    </tr>\n",
              "    <tr>\n",
              "      <th>1</th>\n",
              "      <td>28.0</td>\n",
              "      <td>20.0</td>\n",
              "      <td>0.03963</td>\n",
              "      <td>0.0224</td>\n",
              "      <td>0.3709</td>\n",
              "      <td>0.0088</td>\n",
              "      <td>6.28</td>\n",
              "    </tr>\n",
              "    <tr>\n",
              "      <th>2</th>\n",
              "      <td>28.0</td>\n",
              "      <td>21.0</td>\n",
              "      <td>0.03963</td>\n",
              "      <td>0.0224</td>\n",
              "      <td>0.3709</td>\n",
              "      <td>0.0088</td>\n",
              "      <td>7.94</td>\n",
              "    </tr>\n",
              "    <tr>\n",
              "      <th>3</th>\n",
              "      <td>28.0</td>\n",
              "      <td>22.0</td>\n",
              "      <td>0.03963</td>\n",
              "      <td>0.0224</td>\n",
              "      <td>0.3709</td>\n",
              "      <td>0.0088</td>\n",
              "      <td>6.20</td>\n",
              "    </tr>\n",
              "    <tr>\n",
              "      <th>4</th>\n",
              "      <td>28.0</td>\n",
              "      <td>23.0</td>\n",
              "      <td>0.03963</td>\n",
              "      <td>0.0224</td>\n",
              "      <td>0.3709</td>\n",
              "      <td>0.0088</td>\n",
              "      <td>3.00</td>\n",
              "    </tr>\n",
              "  </tbody>\n",
              "</table>\n",
              "</div>"
            ],
            "text/plain": [
              "   Stock Price  Strike Price  Maturity  ...  Volatility  Risk-free  Call Price\n",
              "0         28.0          17.0   0.03963  ...      0.3709     0.0088       10.40\n",
              "1         28.0          20.0   0.03963  ...      0.3709     0.0088        6.28\n",
              "2         28.0          21.0   0.03963  ...      0.3709     0.0088        7.94\n",
              "3         28.0          22.0   0.03963  ...      0.3709     0.0088        6.20\n",
              "4         28.0          23.0   0.03963  ...      0.3709     0.0088        3.00\n",
              "\n",
              "[5 rows x 7 columns]"
            ]
          },
          "metadata": {
            "tags": []
          },
          "execution_count": 2
        }
      ]
    },
    {
      "cell_type": "code",
      "metadata": {
        "colab": {
          "base_uri": "https://localhost:8080/",
          "height": 204
        },
        "id": "c2cHV78YTdhJ",
        "outputId": "addd6f58-7972-44fa-8afc-2bdeb9047532"
      },
      "source": [
        "df.rename(columns = {'Stock Price':'Stock_Price', 'Strike Price':'Strike_Price', 'Risk-free':'Risk_free' , 'Call Price' : 'Call_Price'}, inplace = True) \r\n",
        "df.head()"
      ],
      "execution_count": null,
      "outputs": [
        {
          "output_type": "execute_result",
          "data": {
            "text/html": [
              "<div>\n",
              "<style scoped>\n",
              "    .dataframe tbody tr th:only-of-type {\n",
              "        vertical-align: middle;\n",
              "    }\n",
              "\n",
              "    .dataframe tbody tr th {\n",
              "        vertical-align: top;\n",
              "    }\n",
              "\n",
              "    .dataframe thead th {\n",
              "        text-align: right;\n",
              "    }\n",
              "</style>\n",
              "<table border=\"1\" class=\"dataframe\">\n",
              "  <thead>\n",
              "    <tr style=\"text-align: right;\">\n",
              "      <th></th>\n",
              "      <th>Stock_Price</th>\n",
              "      <th>Strike_Price</th>\n",
              "      <th>Maturity</th>\n",
              "      <th>Dividends</th>\n",
              "      <th>Volatility</th>\n",
              "      <th>Risk_free</th>\n",
              "      <th>Call_Price</th>\n",
              "    </tr>\n",
              "  </thead>\n",
              "  <tbody>\n",
              "    <tr>\n",
              "      <th>0</th>\n",
              "      <td>28.0</td>\n",
              "      <td>17.0</td>\n",
              "      <td>0.03963</td>\n",
              "      <td>0.0224</td>\n",
              "      <td>0.3709</td>\n",
              "      <td>0.0088</td>\n",
              "      <td>10.40</td>\n",
              "    </tr>\n",
              "    <tr>\n",
              "      <th>1</th>\n",
              "      <td>28.0</td>\n",
              "      <td>20.0</td>\n",
              "      <td>0.03963</td>\n",
              "      <td>0.0224</td>\n",
              "      <td>0.3709</td>\n",
              "      <td>0.0088</td>\n",
              "      <td>6.28</td>\n",
              "    </tr>\n",
              "    <tr>\n",
              "      <th>2</th>\n",
              "      <td>28.0</td>\n",
              "      <td>21.0</td>\n",
              "      <td>0.03963</td>\n",
              "      <td>0.0224</td>\n",
              "      <td>0.3709</td>\n",
              "      <td>0.0088</td>\n",
              "      <td>7.94</td>\n",
              "    </tr>\n",
              "    <tr>\n",
              "      <th>3</th>\n",
              "      <td>28.0</td>\n",
              "      <td>22.0</td>\n",
              "      <td>0.03963</td>\n",
              "      <td>0.0224</td>\n",
              "      <td>0.3709</td>\n",
              "      <td>0.0088</td>\n",
              "      <td>6.20</td>\n",
              "    </tr>\n",
              "    <tr>\n",
              "      <th>4</th>\n",
              "      <td>28.0</td>\n",
              "      <td>23.0</td>\n",
              "      <td>0.03963</td>\n",
              "      <td>0.0224</td>\n",
              "      <td>0.3709</td>\n",
              "      <td>0.0088</td>\n",
              "      <td>3.00</td>\n",
              "    </tr>\n",
              "  </tbody>\n",
              "</table>\n",
              "</div>"
            ],
            "text/plain": [
              "   Stock_Price  Strike_Price  Maturity  ...  Volatility  Risk_free  Call_Price\n",
              "0         28.0          17.0   0.03963  ...      0.3709     0.0088       10.40\n",
              "1         28.0          20.0   0.03963  ...      0.3709     0.0088        6.28\n",
              "2         28.0          21.0   0.03963  ...      0.3709     0.0088        7.94\n",
              "3         28.0          22.0   0.03963  ...      0.3709     0.0088        6.20\n",
              "4         28.0          23.0   0.03963  ...      0.3709     0.0088        3.00\n",
              "\n",
              "[5 rows x 7 columns]"
            ]
          },
          "metadata": {
            "tags": []
          },
          "execution_count": 3
        }
      ]
    },
    {
      "cell_type": "markdown",
      "metadata": {
        "id": "dDSTnKskJ1wo"
      },
      "source": [
        "Before passing the prices to the deep learning net, we exploited a facet of the Black-\r\n",
        "Scholes call option function, i.e., that the pricing function is linear homogenous in\r\n",
        "(S;K), i.e., C(S;K) = K \\ C(S=K; 1). Therefore,\r\n",
        "C(S;K)=K = C(S=K; 1)\r\n",
        "Accordingly, we modifed our data by dividing both stock price S and call price C by\r\n",
        "strike price K. This normalized data was then fed into the deep learning net to \ft\r\n",
        "the input variables S;K; T; q; r; \u001b (the feature set) to the output prices C."
      ]
    },
    {
      "cell_type": "code",
      "metadata": {
        "id": "CR-onku2BnQN"
      },
      "source": [
        "df['Stock_Price'] = df.apply(lambda x: x['Stock_Price'] if x['Stock_Price'] < 1.0 else x['Stock_Price']/x['Strike_Price'], axis=1)\r\n",
        "\r\n",
        "df['Call_Price'] = df.apply(lambda x: x['Call_Price'] if x['Call_Price'] < 1.0 else x['Call_Price']/x['Strike_Price'], axis=1)\r\n",
        "\r\n",
        "df['Strike_Price'] = df.apply(lambda x: x['Strike_Price'] if x['Strike_Price'] < 1.0 else x['Strike_Price']/x['Strike_Price'], axis=1)\r\n"
      ],
      "execution_count": null,
      "outputs": []
    },
    {
      "cell_type": "code",
      "metadata": {
        "colab": {
          "base_uri": "https://localhost:8080/",
          "height": 204
        },
        "id": "df8E3MKpC9VB",
        "outputId": "faad8612-7465-47d0-cf20-da78c35c6252"
      },
      "source": [
        "df.head()"
      ],
      "execution_count": null,
      "outputs": [
        {
          "output_type": "execute_result",
          "data": {
            "text/html": [
              "<div>\n",
              "<style scoped>\n",
              "    .dataframe tbody tr th:only-of-type {\n",
              "        vertical-align: middle;\n",
              "    }\n",
              "\n",
              "    .dataframe tbody tr th {\n",
              "        vertical-align: top;\n",
              "    }\n",
              "\n",
              "    .dataframe thead th {\n",
              "        text-align: right;\n",
              "    }\n",
              "</style>\n",
              "<table border=\"1\" class=\"dataframe\">\n",
              "  <thead>\n",
              "    <tr style=\"text-align: right;\">\n",
              "      <th></th>\n",
              "      <th>Stock_Price</th>\n",
              "      <th>Strike_Price</th>\n",
              "      <th>Maturity</th>\n",
              "      <th>Dividends</th>\n",
              "      <th>Volatility</th>\n",
              "      <th>Risk_free</th>\n",
              "      <th>Call_Price</th>\n",
              "    </tr>\n",
              "  </thead>\n",
              "  <tbody>\n",
              "    <tr>\n",
              "      <th>0</th>\n",
              "      <td>1.647059</td>\n",
              "      <td>1.0</td>\n",
              "      <td>0.03963</td>\n",
              "      <td>0.0224</td>\n",
              "      <td>0.3709</td>\n",
              "      <td>0.0088</td>\n",
              "      <td>0.611765</td>\n",
              "    </tr>\n",
              "    <tr>\n",
              "      <th>1</th>\n",
              "      <td>1.400000</td>\n",
              "      <td>1.0</td>\n",
              "      <td>0.03963</td>\n",
              "      <td>0.0224</td>\n",
              "      <td>0.3709</td>\n",
              "      <td>0.0088</td>\n",
              "      <td>0.314000</td>\n",
              "    </tr>\n",
              "    <tr>\n",
              "      <th>2</th>\n",
              "      <td>1.333333</td>\n",
              "      <td>1.0</td>\n",
              "      <td>0.03963</td>\n",
              "      <td>0.0224</td>\n",
              "      <td>0.3709</td>\n",
              "      <td>0.0088</td>\n",
              "      <td>0.378095</td>\n",
              "    </tr>\n",
              "    <tr>\n",
              "      <th>3</th>\n",
              "      <td>1.272727</td>\n",
              "      <td>1.0</td>\n",
              "      <td>0.03963</td>\n",
              "      <td>0.0224</td>\n",
              "      <td>0.3709</td>\n",
              "      <td>0.0088</td>\n",
              "      <td>0.281818</td>\n",
              "    </tr>\n",
              "    <tr>\n",
              "      <th>4</th>\n",
              "      <td>1.217391</td>\n",
              "      <td>1.0</td>\n",
              "      <td>0.03963</td>\n",
              "      <td>0.0224</td>\n",
              "      <td>0.3709</td>\n",
              "      <td>0.0088</td>\n",
              "      <td>0.130435</td>\n",
              "    </tr>\n",
              "  </tbody>\n",
              "</table>\n",
              "</div>"
            ],
            "text/plain": [
              "   Stock_Price  Strike_Price  Maturity  ...  Volatility  Risk_free  Call_Price\n",
              "0     1.647059           1.0   0.03963  ...      0.3709     0.0088    0.611765\n",
              "1     1.400000           1.0   0.03963  ...      0.3709     0.0088    0.314000\n",
              "2     1.333333           1.0   0.03963  ...      0.3709     0.0088    0.378095\n",
              "3     1.272727           1.0   0.03963  ...      0.3709     0.0088    0.281818\n",
              "4     1.217391           1.0   0.03963  ...      0.3709     0.0088    0.130435\n",
              "\n",
              "[5 rows x 7 columns]"
            ]
          },
          "metadata": {
            "tags": []
          },
          "execution_count": 5
        }
      ]
    },
    {
      "cell_type": "code",
      "metadata": {
        "colab": {
          "base_uri": "https://localhost:8080/",
          "height": 297
        },
        "id": "syBV2WHmmIhe",
        "outputId": "b7334fa5-534e-4fa9-f164-87e8035586ba"
      },
      "source": [
        "df.describe()"
      ],
      "execution_count": null,
      "outputs": [
        {
          "output_type": "execute_result",
          "data": {
            "text/html": [
              "<div>\n",
              "<style scoped>\n",
              "    .dataframe tbody tr th:only-of-type {\n",
              "        vertical-align: middle;\n",
              "    }\n",
              "\n",
              "    .dataframe tbody tr th {\n",
              "        vertical-align: top;\n",
              "    }\n",
              "\n",
              "    .dataframe thead th {\n",
              "        text-align: right;\n",
              "    }\n",
              "</style>\n",
              "<table border=\"1\" class=\"dataframe\">\n",
              "  <thead>\n",
              "    <tr style=\"text-align: right;\">\n",
              "      <th></th>\n",
              "      <th>Stock_Price</th>\n",
              "      <th>Strike_Price</th>\n",
              "      <th>Maturity</th>\n",
              "      <th>Dividends</th>\n",
              "      <th>Volatility</th>\n",
              "      <th>Risk_free</th>\n",
              "      <th>Call_Price</th>\n",
              "    </tr>\n",
              "  </thead>\n",
              "  <tbody>\n",
              "    <tr>\n",
              "      <th>count</th>\n",
              "      <td>11715.000000</td>\n",
              "      <td>11715.0</td>\n",
              "      <td>11715.000000</td>\n",
              "      <td>11715.000000</td>\n",
              "      <td>11715.000000</td>\n",
              "      <td>1.171500e+04</td>\n",
              "      <td>11715.000000</td>\n",
              "    </tr>\n",
              "    <tr>\n",
              "      <th>mean</th>\n",
              "      <td>1.129878</td>\n",
              "      <td>1.0</td>\n",
              "      <td>0.431389</td>\n",
              "      <td>0.006613</td>\n",
              "      <td>0.336430</td>\n",
              "      <td>8.800000e-03</td>\n",
              "      <td>0.306653</td>\n",
              "    </tr>\n",
              "    <tr>\n",
              "      <th>std</th>\n",
              "      <td>0.608171</td>\n",
              "      <td>0.0</td>\n",
              "      <td>0.541206</td>\n",
              "      <td>0.014786</td>\n",
              "      <td>0.085904</td>\n",
              "      <td>1.956852e-15</td>\n",
              "      <td>0.511272</td>\n",
              "    </tr>\n",
              "    <tr>\n",
              "      <th>min</th>\n",
              "      <td>0.000000</td>\n",
              "      <td>1.0</td>\n",
              "      <td>0.001261</td>\n",
              "      <td>0.000000</td>\n",
              "      <td>0.236600</td>\n",
              "      <td>8.800000e-03</td>\n",
              "      <td>0.000227</td>\n",
              "    </tr>\n",
              "    <tr>\n",
              "      <th>25%</th>\n",
              "      <td>0.866654</td>\n",
              "      <td>1.0</td>\n",
              "      <td>0.039630</td>\n",
              "      <td>0.000000</td>\n",
              "      <td>0.289500</td>\n",
              "      <td>8.800000e-03</td>\n",
              "      <td>0.030259</td>\n",
              "    </tr>\n",
              "    <tr>\n",
              "      <th>50%</th>\n",
              "      <td>0.990709</td>\n",
              "      <td>1.0</td>\n",
              "      <td>0.212076</td>\n",
              "      <td>0.000000</td>\n",
              "      <td>0.312800</td>\n",
              "      <td>8.800000e-03</td>\n",
              "      <td>0.142894</td>\n",
              "    </tr>\n",
              "    <tr>\n",
              "      <th>75%</th>\n",
              "      <td>1.256571</td>\n",
              "      <td>1.0</td>\n",
              "      <td>0.614540</td>\n",
              "      <td>0.005000</td>\n",
              "      <td>0.355800</td>\n",
              "      <td>8.800000e-03</td>\n",
              "      <td>0.409480</td>\n",
              "    </tr>\n",
              "    <tr>\n",
              "      <th>max</th>\n",
              "      <td>21.990000</td>\n",
              "      <td>1.0</td>\n",
              "      <td>1.879466</td>\n",
              "      <td>0.076400</td>\n",
              "      <td>0.664400</td>\n",
              "      <td>8.800000e-03</td>\n",
              "      <td>19.650000</td>\n",
              "    </tr>\n",
              "  </tbody>\n",
              "</table>\n",
              "</div>"
            ],
            "text/plain": [
              "        Stock_Price  Strike_Price  ...     Risk_free    Call_Price\n",
              "count  11715.000000       11715.0  ...  1.171500e+04  11715.000000\n",
              "mean       1.129878           1.0  ...  8.800000e-03      0.306653\n",
              "std        0.608171           0.0  ...  1.956852e-15      0.511272\n",
              "min        0.000000           1.0  ...  8.800000e-03      0.000227\n",
              "25%        0.866654           1.0  ...  8.800000e-03      0.030259\n",
              "50%        0.990709           1.0  ...  8.800000e-03      0.142894\n",
              "75%        1.256571           1.0  ...  8.800000e-03      0.409480\n",
              "max       21.990000           1.0  ...  8.800000e-03     19.650000\n",
              "\n",
              "[8 rows x 7 columns]"
            ]
          },
          "metadata": {
            "tags": []
          },
          "execution_count": 6
        }
      ]
    },
    {
      "cell_type": "code",
      "metadata": {
        "id": "gStMLLfRctNm"
      },
      "source": [
        "y = df['Call_Price']\r\n",
        "X = df.drop('Call_Price', axis=1)\r\n",
        "\r\n",
        "np.random.seed(42)\r\n",
        "X_train, X_test, y_train, y_test = train_test_split(X,y , test_size=0.2, random_state = 27)"
      ],
      "execution_count": null,
      "outputs": []
    },
    {
      "cell_type": "code",
      "metadata": {
        "colab": {
          "base_uri": "https://localhost:8080/",
          "height": 297
        },
        "id": "Fr_Y6-m2mZTd",
        "outputId": "e379cfa9-b63e-485f-ae0d-b4ab3b4a962b"
      },
      "source": [
        "X_train.describe()"
      ],
      "execution_count": null,
      "outputs": [
        {
          "output_type": "execute_result",
          "data": {
            "text/html": [
              "<div>\n",
              "<style scoped>\n",
              "    .dataframe tbody tr th:only-of-type {\n",
              "        vertical-align: middle;\n",
              "    }\n",
              "\n",
              "    .dataframe tbody tr th {\n",
              "        vertical-align: top;\n",
              "    }\n",
              "\n",
              "    .dataframe thead th {\n",
              "        text-align: right;\n",
              "    }\n",
              "</style>\n",
              "<table border=\"1\" class=\"dataframe\">\n",
              "  <thead>\n",
              "    <tr style=\"text-align: right;\">\n",
              "      <th></th>\n",
              "      <th>Stock_Price</th>\n",
              "      <th>Strike_Price</th>\n",
              "      <th>Maturity</th>\n",
              "      <th>Dividends</th>\n",
              "      <th>Volatility</th>\n",
              "      <th>Risk_free</th>\n",
              "    </tr>\n",
              "  </thead>\n",
              "  <tbody>\n",
              "    <tr>\n",
              "      <th>count</th>\n",
              "      <td>9372.000000</td>\n",
              "      <td>9372.0</td>\n",
              "      <td>9372.000000</td>\n",
              "      <td>9372.000000</td>\n",
              "      <td>9372.000000</td>\n",
              "      <td>9.372000e+03</td>\n",
              "    </tr>\n",
              "    <tr>\n",
              "      <th>mean</th>\n",
              "      <td>1.130359</td>\n",
              "      <td>1.0</td>\n",
              "      <td>0.437384</td>\n",
              "      <td>0.006527</td>\n",
              "      <td>0.336302</td>\n",
              "      <td>8.800000e-03</td>\n",
              "    </tr>\n",
              "    <tr>\n",
              "      <th>std</th>\n",
              "      <td>0.619121</td>\n",
              "      <td>0.0</td>\n",
              "      <td>0.545722</td>\n",
              "      <td>0.014647</td>\n",
              "      <td>0.085476</td>\n",
              "      <td>8.708776e-16</td>\n",
              "    </tr>\n",
              "    <tr>\n",
              "      <th>min</th>\n",
              "      <td>0.000000</td>\n",
              "      <td>1.0</td>\n",
              "      <td>0.001261</td>\n",
              "      <td>0.000000</td>\n",
              "      <td>0.236600</td>\n",
              "      <td>8.800000e-03</td>\n",
              "    </tr>\n",
              "    <tr>\n",
              "      <th>25%</th>\n",
              "      <td>0.866654</td>\n",
              "      <td>1.0</td>\n",
              "      <td>0.039630</td>\n",
              "      <td>0.000000</td>\n",
              "      <td>0.289500</td>\n",
              "      <td>8.800000e-03</td>\n",
              "    </tr>\n",
              "    <tr>\n",
              "      <th>50%</th>\n",
              "      <td>0.990370</td>\n",
              "      <td>1.0</td>\n",
              "      <td>0.212076</td>\n",
              "      <td>0.000000</td>\n",
              "      <td>0.312800</td>\n",
              "      <td>8.800000e-03</td>\n",
              "    </tr>\n",
              "    <tr>\n",
              "      <th>75%</th>\n",
              "      <td>1.258353</td>\n",
              "      <td>1.0</td>\n",
              "      <td>0.614557</td>\n",
              "      <td>0.005000</td>\n",
              "      <td>0.355800</td>\n",
              "      <td>8.800000e-03</td>\n",
              "    </tr>\n",
              "    <tr>\n",
              "      <th>max</th>\n",
              "      <td>21.990000</td>\n",
              "      <td>1.0</td>\n",
              "      <td>1.879466</td>\n",
              "      <td>0.076400</td>\n",
              "      <td>0.664400</td>\n",
              "      <td>8.800000e-03</td>\n",
              "    </tr>\n",
              "  </tbody>\n",
              "</table>\n",
              "</div>"
            ],
            "text/plain": [
              "       Stock_Price  Strike_Price  ...   Volatility     Risk_free\n",
              "count  9372.000000        9372.0  ...  9372.000000  9.372000e+03\n",
              "mean      1.130359           1.0  ...     0.336302  8.800000e-03\n",
              "std       0.619121           0.0  ...     0.085476  8.708776e-16\n",
              "min       0.000000           1.0  ...     0.236600  8.800000e-03\n",
              "25%       0.866654           1.0  ...     0.289500  8.800000e-03\n",
              "50%       0.990370           1.0  ...     0.312800  8.800000e-03\n",
              "75%       1.258353           1.0  ...     0.355800  8.800000e-03\n",
              "max      21.990000           1.0  ...     0.664400  8.800000e-03\n",
              "\n",
              "[8 rows x 6 columns]"
            ]
          },
          "metadata": {
            "tags": []
          },
          "execution_count": 8
        }
      ]
    },
    {
      "cell_type": "code",
      "metadata": {
        "colab": {
          "base_uri": "https://localhost:8080/",
          "height": 648
        },
        "id": "p_T7rwPqkChY",
        "outputId": "12e56906-fea0-4d3b-ead2-ae843272972c"
      },
      "source": [
        "%matplotlib inline\r\n",
        "import matplotlib.pyplot as plt\r\n",
        "df.hist(bins = 50 , figsize = (20,15))\r\n",
        "plt.show()"
      ],
      "execution_count": null,
      "outputs": [
        {
          "output_type": "display_data",
          "data": {
            "image/png": "[encoded data removed]",
            "text/plain": [
              "<Figure size 1440x1080 with 9 Axes>"
            ]
          },
          "metadata": {
            "tags": [],
            "needs_background": "light"
          }
        }
      ]
    },
    {
      "cell_type": "code",
      "metadata": {
        "id": "J_3Pvgi3XD4T"
      },
      "source": [
        "\r\n",
        "mlp = MLPRegressor(hidden_layer_sizes=(100,100,100,100), solver = 'adam' ,\r\n",
        "                     shuffle = False, batch_size=64, verbose=True,\r\n",
        "                   max_iter= 1000\r\n",
        "                    )"
      ],
      "execution_count": null,
      "outputs": []
    },
    {
      "cell_type": "code",
      "metadata": {
        "colab": {
          "base_uri": "https://localhost:8080/"
        },
        "id": "ZxUTtd5QXvdZ",
        "outputId": "75ccc5b6-9a34-4f63-9346-21589757ca75"
      },
      "source": [
        " mlp.fit(X_train,y_train)\r\n",
        " y_pred = mlp.predict(X_test)"
      ],
      "execution_count": null,
      "outputs": [
        {
          "output_type": "stream",
          "text": [
            "Iteration 1, loss = 0.03784968\n",
            "Iteration 2, loss = 0.02354594\n",
            "Iteration 3, loss = 0.02282604\n",
            "Iteration 4, loss = 0.02238767\n",
            "Iteration 5, loss = 0.02203716\n",
            "Iteration 6, loss = 0.02172634\n",
            "Iteration 7, loss = 0.02154965\n",
            "Iteration 8, loss = 0.02120805\n",
            "Iteration 9, loss = 0.02103878\n",
            "Iteration 10, loss = 0.02094326\n",
            "Iteration 11, loss = 0.02082502\n",
            "Iteration 12, loss = 0.02070104\n",
            "Iteration 13, loss = 0.02056638\n",
            "Iteration 14, loss = 0.02048230\n",
            "Iteration 15, loss = 0.02032346\n",
            "Iteration 16, loss = 0.02025666\n",
            "Iteration 17, loss = 0.02014636\n",
            "Iteration 18, loss = 0.02010572\n",
            "Iteration 19, loss = 0.01997713\n",
            "Iteration 20, loss = 0.01993531\n",
            "Iteration 21, loss = 0.01984233\n",
            "Iteration 22, loss = 0.01980090\n",
            "Iteration 23, loss = 0.01972430\n",
            "Iteration 24, loss = 0.01964069\n",
            "Iteration 25, loss = 0.01962542\n",
            "Iteration 26, loss = 0.01959532\n",
            "Iteration 27, loss = 0.01945169\n",
            "Iteration 28, loss = 0.01952004\n",
            "Iteration 29, loss = 0.01939755\n",
            "Iteration 30, loss = 0.01936061\n",
            "Iteration 31, loss = 0.01931757\n",
            "Iteration 32, loss = 0.01925419\n",
            "Iteration 33, loss = 0.01919374\n",
            "Iteration 34, loss = 0.01918259\n",
            "Iteration 35, loss = 0.01917470\n",
            "Iteration 36, loss = 0.01911741\n",
            "Iteration 37, loss = 0.01910191\n",
            "Iteration 38, loss = 0.01899419\n",
            "Iteration 39, loss = 0.01899141\n",
            "Iteration 40, loss = 0.01896221\n",
            "Iteration 41, loss = 0.01893369\n",
            "Iteration 42, loss = 0.01893057\n",
            "Iteration 43, loss = 0.01883018\n",
            "Iteration 44, loss = 0.01882487\n",
            "Iteration 45, loss = 0.01876830\n",
            "Iteration 46, loss = 0.01877952\n",
            "Iteration 47, loss = 0.01876468\n",
            "Iteration 48, loss = 0.01873584\n",
            "Iteration 49, loss = 0.01871986\n",
            "Iteration 50, loss = 0.01868084\n",
            "Iteration 51, loss = 0.01857195\n",
            "Iteration 52, loss = 0.01849846\n",
            "Iteration 53, loss = 0.01857759\n",
            "Iteration 54, loss = 0.01852864\n",
            "Iteration 55, loss = 0.01852486\n",
            "Iteration 56, loss = 0.01860829\n",
            "Iteration 57, loss = 0.01856611\n",
            "Iteration 58, loss = 0.01840817\n",
            "Iteration 59, loss = 0.01842475\n",
            "Iteration 60, loss = 0.01837338\n",
            "Iteration 61, loss = 0.01830359\n",
            "Iteration 62, loss = 0.01837083\n",
            "Training loss did not improve more than tol=0.000100 for 10 consecutive epochs. Stopping.\n"
          ],
          "name": "stdout"
        }
      ]
    },
    {
      "cell_type": "markdown",
      "metadata": {
        "id": "9XrIQL0rjkTK"
      },
      "source": [
        "#**Evaluation Metrics**"
      ]
    },
    {
      "cell_type": "code",
      "metadata": {
        "colab": {
          "base_uri": "https://localhost:8080/"
        },
        "id": "NPzn5YNMsQfo",
        "outputId": "08a54336-ca47-474d-bb96-ba3a67a41a27"
      },
      "source": [
        "from sklearn import metrics \r\n",
        "\r\n",
        "mae = metrics.mean_absolute_error(y_train,mlp.predict(X_train))\r\n",
        "mse = metrics.mean_squared_error(y_train,mlp.predict(X_train))\r\n",
        "r2 = metrics.r2_score(y_train,mlp.predict(X_train))\r\n",
        "rmse = np.sqrt(mse) # or mse**(0.5)\r\n",
        "\r\n",
        "print(\"Results of sklearn.metrics:\")\r\n",
        "print(\"MAE:\",mae)\r\n",
        "print(\"MSE:\", mse)\r\n",
        "print(\"RMSE:\", rmse)\r\n",
        "print(\"R-Squared:\", r2)"
      ],
      "execution_count": null,
      "outputs": [
        {
          "output_type": "stream",
          "text": [
            "Results of sklearn.metrics:\n",
            "MAE: 0.0943622668904747\n",
            "MSE: 0.03678565668662867\n",
            "RMSE: 0.19179587244419175\n",
            "R-Squared: 0.8662160247576486\n"
          ],
          "name": "stdout"
        }
      ]
    },
    {
      "cell_type": "code",
      "metadata": {
        "colab": {
          "base_uri": "https://localhost:8080/"
        },
        "id": "zn_VjgjeXUuv",
        "outputId": "70649594-64a1-4160-fc79-bfd129300ef5"
      },
      "source": [
        "print(\"Training set score: %f\" % mlp.score(X_train, y_train))\r\n",
        "print(\"Test set score: %f\" % mlp.score(X_test, y_test))"
      ],
      "execution_count": null,
      "outputs": [
        {
          "output_type": "stream",
          "text": [
            "Training set score: 0.866216\n",
            "Test set score: 0.782301\n"
          ],
          "name": "stdout"
        }
      ]
    },
    {
      "cell_type": "code",
      "metadata": {
        "colab": {
          "base_uri": "https://localhost:8080/",
          "height": 280
        },
        "id": "SdE4KtuSEEhu",
        "outputId": "d9b8f24c-4e67-4b93-f4de-d89828ad1645"
      },
      "source": [
        "import matplotlib.pyplot as plt\r\n",
        "\r\n",
        "plt.scatter(y_pred, y_test) \r\n",
        "\r\n",
        "plt.xlabel(\"y_pred\")\r\n",
        "plt.ylabel(\"y_test\")\r\n",
        "plt.show() "
      ],
      "execution_count": null,
      "outputs": [
        {
          "output_type": "display_data",
          "data": {
            "image/png": "[encoded data removed]",
            "text/plain": [
              "<Figure size 432x288 with 1 Axes>"
            ]
          },
          "metadata": {
            "tags": [],
            "needs_background": "light"
          }
        }
      ]
    },
    {
      "cell_type": "markdown",
      "metadata": {
        "id": "Mf_5Aj7kv3oK"
      },
      "source": [
        "#**COMMPARING**\r\n",
        "\r\n",
        "**tanh :**\r\n",
        "      \r\n",
        "      Training set score: 0.833441\r\n",
        "\r\n",
        "      Test set score: 0.718982 \r\n",
        "0.12019009565725952 0.0501693811154518 0.8175414048401803\r\n",
        "\r\n",
        "\r\n",
        "**loogistic :**\r\n",
        "            \r\n",
        "            Training set score: 0.833032\r\n",
        "\r\n",
        "             Test set score: 0.721136\r\n",
        "\r\n",
        "0.1297673532346836 0.04590990885318426 0.8330324734524696\r\n",
        "\r\n",
        "\r\n",
        "**none:**\r\n",
        "\r\n",
        "         Training set score: 0.864921\r\n",
        "          \r\n",
        "          Test set score: 0.778331\r\n",
        "\r\n",
        "0.09872406519158956 0.03714183391137499 0.8649206610395755"
      ]
    }
  ]
}